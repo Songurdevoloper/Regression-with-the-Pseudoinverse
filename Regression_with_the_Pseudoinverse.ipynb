{
  "nbformat": 4,
  "nbformat_minor": 0,
  "metadata": {
    "colab": {
      "name": "Regression-with-the-Pseudoinverse.ipynb",
      "provenance": [],
      "collapsed_sections": [],
      "authorship_tag": "ABX9TyPPze5cuUmGYHyDXt/ZbEj+",
      "include_colab_link": true
    },
    "kernelspec": {
      "name": "python3",
      "display_name": "Python 3"
    },
    "language_info": {
      "name": "python"
    }
  },
  "cells": [
    {
      "cell_type": "markdown",
      "metadata": {
        "id": "view-in-github",
        "colab_type": "text"
      },
      "source": [
        "<a href=\"https://colab.research.google.com/github/Songurdevoloper/Regression-with-the-Pseudoinverse/blob/main/Regression_with_the_Pseudoinverse.ipynb\" target=\"_parent\"><img src=\"https://colab.research.google.com/assets/colab-badge.svg\" alt=\"Open In Colab\"/></a>"
      ]
    },
    {
      "cell_type": "markdown",
      "metadata": {
        "id": "8TQnEH99W7JY"
      },
      "source": [
        "## Regression with the Pseudoinverse"
      ]
    },
    {
      "cell_type": "markdown",
      "metadata": {
        "id": "GoS0ep80Hm1A"
      },
      "source": [
        "For regression problems, we typically have many more cases (n or rows of **X**) than features to predict (m or columns of **X**) let's solve a miniature example of such an overdetermined situation.\n",
        "\n",
        "We have eight data points (n=8):"
      ]
    },
    {
      "cell_type": "code",
      "metadata": {
        "id": "DLqRZb6_IA9r"
      },
      "source": [
        "import numpy as np\n",
        "import matplotlib.pyplot as plt"
      ],
      "execution_count": 1,
      "outputs": []
    },
    {
      "cell_type": "code",
      "metadata": {
        "colab": {
          "base_uri": "https://localhost:8080/",
          "height": 295
        },
        "id": "GnENPeefIFT-",
        "outputId": "09503c80-0fb8-463b-ce01-5e213b23e295"
      },
      "source": [
        "x1 = [1, 5, 8, 13, 16, 21, 25, 29, 32] # Distance traveled to burn calories (in Kilometers)\n",
        "y = [47.20, 311.11, 522.2, 611.3, 1212, 1355.6, 1973, 2110.8, 2520.3] # Calories burned to lose weight (in Joules)\n",
        "\n",
        "title = \"Diet Program\"\n",
        "xlabel = \"Distance traveled (in KM)\"\n",
        "ylabel = \"Calories burned (in Joule)\"\n",
        "\n",
        "fig, ax = plt.subplots()\n",
        "plt.title(title)\n",
        "plt.xlabel(xlabel)\n",
        "plt.ylabel(ylabel)\n",
        "_ = ax.scatter(x1, y)"
      ],
      "execution_count": 34,
      "outputs": [
        {
          "output_type": "display_data",
          "data": {
            "image/png": "[encoded data removed]",
            "text/plain": [
              "<Figure size 432x288 with 1 Axes>"
            ]
          },
          "metadata": {
            "needs_background": "light"
          }
        }
      ]
    },
    {
      "cell_type": "markdown",
      "metadata": {
        "id": "4jLMQE0MOlDx"
      },
      "source": [
        "Altrough it appears there is only one predictor (X<sub>1</sub>), we need a second one (let's call it X<sub>0</sub>) in order to allow for a y-intercept (therefire, m=2). Without this second variable, the line we fit to the plot would need to pass through the origin (0, 0). The y-intercept is constant across all he points so we can set it equal to `1` across the board"
      ]
    },
    {
      "cell_type": "code",
      "metadata": {
        "colab": {
          "base_uri": "https://localhost:8080/"
        },
        "id": "ZLEfYKueOt7O",
        "outputId": "e8db252e-7699-4fd4-9c49-1dfc3777570e"
      },
      "source": [
        "x0 = np.ones(9)\n",
        "x0"
      ],
      "execution_count": 35,
      "outputs": [
        {
          "output_type": "execute_result",
          "data": {
            "text/plain": [
              "array([1., 1., 1., 1., 1., 1., 1., 1., 1.])"
            ]
          },
          "metadata": {},
          "execution_count": 35
        }
      ]
    },
    {
      "cell_type": "markdown",
      "metadata": {
        "id": "gJV5GlSqO3_r"
      },
      "source": [
        "Concatenate X<sub>0</sub> and X<sub>1</sub> into a matrix **X**"
      ]
    },
    {
      "cell_type": "code",
      "metadata": {
        "colab": {
          "base_uri": "https://localhost:8080/"
        },
        "id": "x7Loog6UO52U",
        "outputId": "0d44b729-a0d6-4c31-ec86-cde94edeae6f"
      },
      "source": [
        "X = np.concatenate((np.matrix(x0).T, np.matrix(x1).T), axis=1)\n",
        "X"
      ],
      "execution_count": 36,
      "outputs": [
        {
          "output_type": "execute_result",
          "data": {
            "text/plain": [
              "matrix([[ 1.,  1.],\n",
              "        [ 1.,  5.],\n",
              "        [ 1.,  8.],\n",
              "        [ 1., 13.],\n",
              "        [ 1., 16.],\n",
              "        [ 1., 21.],\n",
              "        [ 1., 25.],\n",
              "        [ 1., 29.],\n",
              "        [ 1., 32.]])"
            ]
          },
          "metadata": {},
          "execution_count": 36
        }
      ]
    },
    {
      "cell_type": "markdown",
      "metadata": {
        "id": "udtPuo9YPj8e"
      },
      "source": [
        "We know that we can calculate the weights **w** using the equation **w = X<sup>+</sup>y**:"
      ]
    },
    {
      "cell_type": "code",
      "metadata": {
        "colab": {
          "base_uri": "https://localhost:8080/"
        },
        "id": "lmnFtEhzPnSU",
        "outputId": "69e8872c-71fb-4b43-e4f2-fbe9d1704d6e"
      },
      "source": [
        "w = np.dot(np.linalg.pinv(X), y)\n",
        "w"
      ],
      "execution_count": 37,
      "outputs": [
        {
          "output_type": "execute_result",
          "data": {
            "text/plain": [
              "matrix([[-137.39042048,   79.3334919 ]])"
            ]
          },
          "metadata": {},
          "execution_count": 37
        }
      ]
    },
    {
      "cell_type": "markdown",
      "metadata": {
        "id": "i65bvfhbP-GC"
      },
      "source": [
        "The first weights corresponds to the y-intercept of the line, which is typically denoted as b:"
      ]
    },
    {
      "cell_type": "code",
      "metadata": {
        "colab": {
          "base_uri": "https://localhost:8080/"
        },
        "id": "eNDxlNLnP-sg",
        "outputId": "2ff96e65-e1dd-4962-8fd0-2198ad5991b9"
      },
      "source": [
        "b = np.asarray(w).reshape(-1)[0]\n",
        "b"
      ],
      "execution_count": 38,
      "outputs": [
        {
          "output_type": "execute_result",
          "data": {
            "text/plain": [
              "-137.3904204839094"
            ]
          },
          "metadata": {},
          "execution_count": 38
        }
      ]
    },
    {
      "cell_type": "markdown",
      "metadata": {
        "id": "0MTOoQfZQGtN"
      },
      "source": [
        "While the second weight corresponds to the slope of the line, which is typically denoted as m:"
      ]
    },
    {
      "cell_type": "code",
      "metadata": {
        "colab": {
          "base_uri": "https://localhost:8080/"
        },
        "id": "GPtYqlQbQMwa",
        "outputId": "a43a16f1-3dc8-4055-cffd-de917a291bcf"
      },
      "source": [
        "m = np.asarray(w).reshape(-1)[1]\n",
        "m"
      ],
      "execution_count": 39,
      "outputs": [
        {
          "output_type": "execute_result",
          "data": {
            "text/plain": [
              "79.33349189570121"
            ]
          },
          "metadata": {},
          "execution_count": 39
        }
      ]
    },
    {
      "cell_type": "markdown",
      "metadata": {
        "id": "NoHsf83zQUEQ"
      },
      "source": [
        "With the weights we can plot the line to confirm it fits the points:"
      ]
    },
    {
      "cell_type": "code",
      "metadata": {
        "colab": {
          "base_uri": "https://localhost:8080/",
          "height": 295
        },
        "id": "Xqzg2ff0QZTr",
        "outputId": "2bcce25a-261d-4711-812f-fa24c68f611a"
      },
      "source": [
        "fig, ax = plt.subplots()\n",
        "\n",
        "plt.title(title)\n",
        "plt.xlabel(xlabel)\n",
        "plt.ylabel(ylabel)\n",
        "\n",
        "ax.scatter(x1, y)\n",
        "\n",
        "x_min, x_max = ax.get_xlim()\n",
        "y_min, y_max = m * x_min + b, m * x_max + b\n",
        "\n",
        "ax.set_xlim([x_min, x_max])\n",
        "_ = ax.plot([x_min, x_max], [y_min, y_max])"
      ],
      "execution_count": 40,
      "outputs": [
        {
          "output_type": "display_data",
          "data": {
            "image/png": "[encoded data removed]",
            "text/plain": [
              "<Figure size 432x288 with 1 Axes>"
            ]
          },
          "metadata": {
            "needs_background": "light"
          }
        }
      ]
    },
    {
      "cell_type": "code",
      "metadata": {
        "colab": {
          "base_uri": "https://localhost:8080/"
        },
        "id": "Y9s40QCITuCf",
        "outputId": "ea85a1b6-02c4-4a86-883b-d3dd9244d7fa"
      },
      "source": [
        "x_min, x_max"
      ],
      "execution_count": 44,
      "outputs": [
        {
          "output_type": "execute_result",
          "data": {
            "text/plain": [
              "(-0.55, 33.55)"
            ]
          },
          "metadata": {},
          "execution_count": 44
        }
      ]
    },
    {
      "cell_type": "code",
      "metadata": {
        "colab": {
          "base_uri": "https://localhost:8080/"
        },
        "id": "8m0I8QeTRb11",
        "outputId": "216bfb33-e4cc-454f-9363-c4dfd2570f59"
      },
      "source": [
        "(m * x_min + b), (m * x_max + b) # y-min # y-max"
      ],
      "execution_count": 50,
      "outputs": [
        {
          "output_type": "execute_result",
          "data": {
            "text/plain": [
              "(-181.02384102654506, 2524.248232616866)"
            ]
          },
          "metadata": {},
          "execution_count": 50
        }
      ]
    },
    {
      "cell_type": "code",
      "metadata": {
        "colab": {
          "base_uri": "https://localhost:8080/"
        },
        "id": "jUJZlYj9UO0q",
        "outputId": "88d159bb-0c35-4c79-d210-20aed65dc7c1"
      },
      "source": [
        "x_min, y_min"
      ],
      "execution_count": 51,
      "outputs": [
        {
          "output_type": "execute_result",
          "data": {
            "text/plain": [
              "(-0.55, -181.02384102654506)"
            ]
          },
          "metadata": {},
          "execution_count": 51
        }
      ]
    },
    {
      "cell_type": "code",
      "metadata": {
        "colab": {
          "base_uri": "https://localhost:8080/"
        },
        "id": "P6LkC_P_Ubb6",
        "outputId": "dcd78ccd-5e2d-4fe8-a0ea-18b1e96ee345"
      },
      "source": [
        "x_max, y_max"
      ],
      "execution_count": 52,
      "outputs": [
        {
          "output_type": "execute_result",
          "data": {
            "text/plain": [
              "(33.55, 2524.248232616866)"
            ]
          },
          "metadata": {},
          "execution_count": 52
        }
      ]
    }
  ]
}